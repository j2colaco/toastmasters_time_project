{
 "cells": [
  {
   "cell_type": "code",
   "execution_count": 1,
   "metadata": {},
   "outputs": [],
   "source": [
    "import datetime"
   ]
  },
  {
   "cell_type": "code",
   "execution_count": 2,
   "metadata": {},
   "outputs": [],
   "source": [
    "# Meeting Sections\n",
    "\n",
    "# Total Number of Sections\n",
    "# Total Number of Section over time\n",
    "# Stats on Each individual sections\n",
    "\n",
    "# Total Number of Speaking roles over 5 meetings\n",
    "# Total Number of Speaking Roles with alloted time\n",
    "# Total Number of Speaking Roles over alloted time\n",
    "# Total Number of Speaking Roles +30 seconds over alloted time\n",
    "# Stats into individual meeting section speaker roles\n",
    "## Agenda Timing\n",
    "\n",
    "\n"
   ]
  },
  {
   "cell_type": "markdown",
   "metadata": {},
   "source": [
    "# Read in Data"
   ]
  },
  {
   "cell_type": "code",
   "execution_count": 3,
   "metadata": {},
   "outputs": [
    {
     "data": {
      "text/plain": [
       "(40, 12)"
      ]
     },
     "execution_count": 3,
     "metadata": {},
     "output_type": "execute_result"
    }
   ],
   "source": [
    "meeting_chunks = pd.read_csv('~/meeting_chunks.csv')\n",
    "meeting_chunks.shape"
   ]
  },
  {
   "cell_type": "code",
   "execution_count": 4,
   "metadata": {},
   "outputs": [
    {
     "data": {
      "text/plain": [
       "(118, 15)"
      ]
     },
     "execution_count": 4,
     "metadata": {},
     "output_type": "execute_result"
    }
   ],
   "source": [
    "speaker_data = pd.read_csv('~/speaker_data.csv')\n",
    "speaker_data.shape"
   ]
  },
  {
   "cell_type": "markdown",
   "metadata": {},
   "source": [
    "# Clean Data"
   ]
  },
  {
   "cell_type": "markdown",
   "metadata": {},
   "source": [
    "#### Save all time is minutes"
   ]
  },
  {
   "cell_type": "code",
   "execution_count": 5,
   "metadata": {},
   "outputs": [],
   "source": [
    "# Making total allotted and actual minutes\n",
    "meeting_chunks['actual_chunk_minutes'] = (meeting_chunks['Actual Hour']*60) + meeting_chunks['Actual Minutes'] + (meeting_chunks['Actual Seconds']/60)\n",
    "meeting_chunks['chunk_minutes'] = (meeting_chunks['Allotted Hour']*60) + meeting_chunks['Allotted Minute'] + (meeting_chunks['Allotted Seconds']/60)\n",
    "\n",
    "speaker_data['total_actual_speaker_minutes'] = (speaker_data['Actual Hour']*60) + speaker_data['Actual Minute'] + (speaker_data['Actual Seconds']/60)\n",
    "speaker_data['allotted_speaker_minutes'] = (speaker_data['Allotted Hour']*60) + speaker_data['Allotted Minute'] + (speaker_data['Alloted Seconds']/60)"
   ]
  },
  {
   "cell_type": "markdown",
   "metadata": {},
   "source": [
    "#### Convert to datetime"
   ]
  },
  {
   "cell_type": "code",
   "execution_count": 6,
   "metadata": {},
   "outputs": [],
   "source": [
    "speaker_data['Start Time'] = pd.to_datetime(speaker_data['Start Time'])\n",
    "speaker_data['End Time'] = pd.to_datetime(speaker_data['End Time'])\n"
   ]
  },
  {
   "cell_type": "markdown",
   "metadata": {},
   "source": [
    "#### merge datasets"
   ]
  },
  {
   "cell_type": "code",
   "execution_count": 7,
   "metadata": {},
   "outputs": [],
   "source": [
    "meeting_chunks_v2 = meeting_chunks[['Meeting No.', 'Meeting Date', 'Chunk', 'Comments', 'actual_chunk_minutes', 'chunk_minutes']]\n",
    "meeting_chunks_v2 = meeting_chunks_v2.rename(columns={'Chunk':'Meeting Chuck'})\n",
    "speaker_data_v2 = speaker_data.merge(meeting_chunks_v2, on=['Meeting No.', 'Meeting Date', 'Meeting Chuck'], how='left')"
   ]
  },
  {
   "cell_type": "markdown",
   "metadata": {},
   "source": [
    "#### clean column names"
   ]
  },
  {
   "cell_type": "code",
   "execution_count": 8,
   "metadata": {},
   "outputs": [],
   "source": [
    "speaker_data_v2.columns = speaker_data_v2.columns.str.strip().str.lower().str.replace(' ', '_').str.replace('.', '')\n",
    "speaker_data_v2 = speaker_data_v2.rename(columns={'meeting_chuck': 'meeting_chunk'})"
   ]
  },
  {
   "cell_type": "code",
   "execution_count": 9,
   "metadata": {},
   "outputs": [
    {
     "data": {
      "text/html": [
       "<div>\n",
       "<style scoped>\n",
       "    .dataframe tbody tr th:only-of-type {\n",
       "        vertical-align: middle;\n",
       "    }\n",
       "\n",
       "    .dataframe tbody tr th {\n",
       "        vertical-align: top;\n",
       "    }\n",
       "\n",
       "    .dataframe thead th {\n",
       "        text-align: right;\n",
       "    }\n",
       "</style>\n",
       "<table border=\"1\" class=\"dataframe\">\n",
       "  <thead>\n",
       "    <tr style=\"text-align: right;\">\n",
       "      <th></th>\n",
       "      <th>meeting_no</th>\n",
       "      <th>meeting_date</th>\n",
       "      <th>start_time</th>\n",
       "      <th>end_time</th>\n",
       "      <th>meeting_chunk</th>\n",
       "      <th>role_name</th>\n",
       "      <th>allotted_hour</th>\n",
       "      <th>allotted_minute</th>\n",
       "      <th>alloted_seconds</th>\n",
       "      <th>alloted_time</th>\n",
       "      <th>actual_hour</th>\n",
       "      <th>actual_minute</th>\n",
       "      <th>actual_seconds</th>\n",
       "      <th>actual_time</th>\n",
       "      <th>no_guests</th>\n",
       "      <th>total_actual_speaker_minutes</th>\n",
       "      <th>allotted_speaker_minutes</th>\n",
       "      <th>comments</th>\n",
       "      <th>actual_chunk_minutes</th>\n",
       "      <th>chunk_minutes</th>\n",
       "    </tr>\n",
       "  </thead>\n",
       "  <tbody>\n",
       "    <tr>\n",
       "      <th>0</th>\n",
       "      <td>575</td>\n",
       "      <td>11/6/2019</td>\n",
       "      <td>2020-01-03 18:08:00</td>\n",
       "      <td>2020-01-03 19:52:00</td>\n",
       "      <td>Introduce Guest and Theme</td>\n",
       "      <td>TME Theme Introduction</td>\n",
       "      <td>0</td>\n",
       "      <td>0</td>\n",
       "      <td>0</td>\n",
       "      <td>0:00:00</td>\n",
       "      <td>0</td>\n",
       "      <td>3</td>\n",
       "      <td>48</td>\n",
       "      <td>0:03:48</td>\n",
       "      <td>NaN</td>\n",
       "      <td>3.800000</td>\n",
       "      <td>0.0</td>\n",
       "      <td>NaN</td>\n",
       "      <td>9.3</td>\n",
       "      <td>5.0</td>\n",
       "    </tr>\n",
       "    <tr>\n",
       "      <th>1</th>\n",
       "      <td>575</td>\n",
       "      <td>11/6/2019</td>\n",
       "      <td>2020-01-03 18:08:00</td>\n",
       "      <td>2020-01-03 19:52:00</td>\n",
       "      <td>Introduce Guest and Theme</td>\n",
       "      <td>Guest Introductions</td>\n",
       "      <td>0</td>\n",
       "      <td>0</td>\n",
       "      <td>0</td>\n",
       "      <td>0:00:00</td>\n",
       "      <td>0</td>\n",
       "      <td>4</td>\n",
       "      <td>19</td>\n",
       "      <td>0:04:19</td>\n",
       "      <td>6.0</td>\n",
       "      <td>4.316667</td>\n",
       "      <td>0.0</td>\n",
       "      <td>NaN</td>\n",
       "      <td>9.3</td>\n",
       "      <td>5.0</td>\n",
       "    </tr>\n",
       "  </tbody>\n",
       "</table>\n",
       "</div>"
      ],
      "text/plain": [
       "   meeting_no meeting_date          start_time            end_time  \\\n",
       "0         575    11/6/2019 2020-01-03 18:08:00 2020-01-03 19:52:00   \n",
       "1         575    11/6/2019 2020-01-03 18:08:00 2020-01-03 19:52:00   \n",
       "\n",
       "               meeting_chunk               role_name  allotted_hour  \\\n",
       "0  Introduce Guest and Theme  TME Theme Introduction              0   \n",
       "1  Introduce Guest and Theme     Guest Introductions              0   \n",
       "\n",
       "   allotted_minute  alloted_seconds alloted_time  actual_hour  actual_minute  \\\n",
       "0                0                0      0:00:00            0              3   \n",
       "1                0                0      0:00:00            0              4   \n",
       "\n",
       "   actual_seconds actual_time  no_guests  total_actual_speaker_minutes  \\\n",
       "0              48     0:03:48        NaN                      3.800000   \n",
       "1              19     0:04:19        6.0                      4.316667   \n",
       "\n",
       "   allotted_speaker_minutes comments  actual_chunk_minutes  chunk_minutes  \n",
       "0                       0.0      NaN                   9.3            5.0  \n",
       "1                       0.0      NaN                   9.3            5.0  "
      ]
     },
     "execution_count": 9,
     "metadata": {},
     "output_type": "execute_result"
    }
   ],
   "source": [
    "speaker_data_v2.head(2)"
   ]
  },
  {
   "cell_type": "code",
   "execution_count": 10,
   "metadata": {},
   "outputs": [
    {
     "data": {
      "text/html": [
       "<div>\n",
       "<style scoped>\n",
       "    .dataframe tbody tr th:only-of-type {\n",
       "        vertical-align: middle;\n",
       "    }\n",
       "\n",
       "    .dataframe tbody tr th {\n",
       "        vertical-align: top;\n",
       "    }\n",
       "\n",
       "    .dataframe thead th {\n",
       "        text-align: right;\n",
       "    }\n",
       "</style>\n",
       "<table border=\"1\" class=\"dataframe\">\n",
       "  <thead>\n",
       "    <tr style=\"text-align: right;\">\n",
       "      <th></th>\n",
       "      <th>meeting_no</th>\n",
       "      <th>meeting_date</th>\n",
       "      <th>start_time</th>\n",
       "      <th>end_time</th>\n",
       "      <th>meeting_chunk</th>\n",
       "      <th>role_name</th>\n",
       "      <th>allotted_hour</th>\n",
       "      <th>allotted_minute</th>\n",
       "      <th>alloted_seconds</th>\n",
       "      <th>alloted_time</th>\n",
       "      <th>actual_hour</th>\n",
       "      <th>actual_minute</th>\n",
       "      <th>actual_seconds</th>\n",
       "      <th>actual_time</th>\n",
       "      <th>no_guests</th>\n",
       "      <th>total_actual_speaker_minutes</th>\n",
       "      <th>allotted_speaker_minutes</th>\n",
       "      <th>comments</th>\n",
       "      <th>actual_chunk_minutes</th>\n",
       "      <th>chunk_minutes</th>\n",
       "    </tr>\n",
       "  </thead>\n",
       "  <tbody>\n",
       "    <tr>\n",
       "      <th>0</th>\n",
       "      <td>575</td>\n",
       "      <td>11/6/2019</td>\n",
       "      <td>2020-01-03 18:08:00</td>\n",
       "      <td>2020-01-03 19:52:00</td>\n",
       "      <td>Introduce Guest and Theme</td>\n",
       "      <td>TME Theme Introduction</td>\n",
       "      <td>0</td>\n",
       "      <td>0</td>\n",
       "      <td>0</td>\n",
       "      <td>0:00:00</td>\n",
       "      <td>0</td>\n",
       "      <td>3</td>\n",
       "      <td>48</td>\n",
       "      <td>0:03:48</td>\n",
       "      <td>NaN</td>\n",
       "      <td>3.800000</td>\n",
       "      <td>0.0</td>\n",
       "      <td>NaN</td>\n",
       "      <td>9.300000</td>\n",
       "      <td>5.0</td>\n",
       "    </tr>\n",
       "    <tr>\n",
       "      <th>1</th>\n",
       "      <td>575</td>\n",
       "      <td>11/6/2019</td>\n",
       "      <td>2020-01-03 18:08:00</td>\n",
       "      <td>2020-01-03 19:52:00</td>\n",
       "      <td>Introduce Guest and Theme</td>\n",
       "      <td>Guest Introductions</td>\n",
       "      <td>0</td>\n",
       "      <td>0</td>\n",
       "      <td>0</td>\n",
       "      <td>0:00:00</td>\n",
       "      <td>0</td>\n",
       "      <td>4</td>\n",
       "      <td>19</td>\n",
       "      <td>0:04:19</td>\n",
       "      <td>6.0</td>\n",
       "      <td>4.316667</td>\n",
       "      <td>0.0</td>\n",
       "      <td>NaN</td>\n",
       "      <td>9.300000</td>\n",
       "      <td>5.0</td>\n",
       "    </tr>\n",
       "    <tr>\n",
       "      <th>2</th>\n",
       "      <td>575</td>\n",
       "      <td>11/6/2019</td>\n",
       "      <td>2020-01-03 18:08:00</td>\n",
       "      <td>2020-01-03 19:52:00</td>\n",
       "      <td>Evaluation Introduction</td>\n",
       "      <td>Ah Counter Role</td>\n",
       "      <td>0</td>\n",
       "      <td>0</td>\n",
       "      <td>0</td>\n",
       "      <td>0:00:00</td>\n",
       "      <td>0</td>\n",
       "      <td>0</td>\n",
       "      <td>51</td>\n",
       "      <td>0:00:51</td>\n",
       "      <td>NaN</td>\n",
       "      <td>0.850000</td>\n",
       "      <td>0.0</td>\n",
       "      <td>NaN</td>\n",
       "      <td>5.766667</td>\n",
       "      <td>5.0</td>\n",
       "    </tr>\n",
       "  </tbody>\n",
       "</table>\n",
       "</div>"
      ],
      "text/plain": [
       "   meeting_no meeting_date          start_time            end_time  \\\n",
       "0         575    11/6/2019 2020-01-03 18:08:00 2020-01-03 19:52:00   \n",
       "1         575    11/6/2019 2020-01-03 18:08:00 2020-01-03 19:52:00   \n",
       "2         575    11/6/2019 2020-01-03 18:08:00 2020-01-03 19:52:00   \n",
       "\n",
       "               meeting_chunk               role_name  allotted_hour  \\\n",
       "0  Introduce Guest and Theme  TME Theme Introduction              0   \n",
       "1  Introduce Guest and Theme     Guest Introductions              0   \n",
       "2    Evaluation Introduction         Ah Counter Role              0   \n",
       "\n",
       "   allotted_minute  alloted_seconds alloted_time  actual_hour  actual_minute  \\\n",
       "0                0                0      0:00:00            0              3   \n",
       "1                0                0      0:00:00            0              4   \n",
       "2                0                0      0:00:00            0              0   \n",
       "\n",
       "   actual_seconds actual_time  no_guests  total_actual_speaker_minutes  \\\n",
       "0              48     0:03:48        NaN                      3.800000   \n",
       "1              19     0:04:19        6.0                      4.316667   \n",
       "2              51     0:00:51        NaN                      0.850000   \n",
       "\n",
       "   allotted_speaker_minutes comments  actual_chunk_minutes  chunk_minutes  \n",
       "0                       0.0      NaN              9.300000            5.0  \n",
       "1                       0.0      NaN              9.300000            5.0  \n",
       "2                       0.0      NaN              5.766667            5.0  "
      ]
     },
     "execution_count": 10,
     "metadata": {},
     "output_type": "execute_result"
    }
   ],
   "source": [
    "speaker_data_v2.head(3)"
   ]
  },
  {
   "cell_type": "markdown",
   "metadata": {},
   "source": [
    "#### Clean text data"
   ]
  },
  {
   "cell_type": "code",
   "execution_count": 11,
   "metadata": {},
   "outputs": [],
   "source": [
    "speaker_data_v3 = speaker_data_v2.replace({'meeting_chunk' : { 'Introduce Guest and Theme' : '1. Introduce Guest and Theme', \n",
    "                                            'Evaluation Introduction' : '2. Evaluation Introduction', \n",
    "                                            'Speech Program' : '3. Speech Program',\n",
    "                                            'Table Topics': '4. Table Topics', \n",
    "                                            'Evaluation': '5. Evaluation',\n",
    "                                           'Club Business': '6. Club Business',\n",
    "                                           'Comments/Annoucements': '7. Comments/Annoucements'}\n",
    "                        }\n",
    "                       )\n",
    "\n",
    "speaker_data_v3 = speaker_data_v3.replace({'role_name': {'Speaker 1': 'Speaker',\n",
    "                                      'Speaker 2' : 'Speaker',\n",
    "                                      'Speaker 3' : 'Speaker',\n",
    "                                      'TT - 1': 'TT Speaker',\n",
    "                                       'TT - 2': 'TT Speaker',\n",
    "                                       'TT - 3': 'TT Speaker',\n",
    "                                       'TT - 4': 'TT Speaker',\n",
    "                                       'TT - 5': 'TT Speaker',\n",
    "                                       'TT - 6': 'TT Speaker',\n",
    "                                       'TT - 7': 'TT Speaker',\n",
    "                                       'TT - 8': 'TT Speaker',\n",
    "                                       'TT - 9': 'TT Speaker',\n",
    "                                       'TT - 10': 'TT Speaker',\n",
    "                                       'TT - 11': 'TT Speaker',\n",
    "                                       'Speech Evaluator 1': 'Speech Evaluator',\n",
    "                                        'Speech Evaluator 2': 'Speech Evaluator',\n",
    "                                        'Speech Evaluator 3': 'Speech Evaluator',}})"
   ]
  },
  {
   "cell_type": "markdown",
   "metadata": {},
   "source": [
    "# Meeting Level Analysis\n",
    "- duration of each meeting\n",
    "- num started early and num ended late"
   ]
  },
  {
   "cell_type": "markdown",
   "metadata": {},
   "source": [
    "#### Duration of each meeting"
   ]
  },
  {
   "cell_type": "code",
   "execution_count": 12,
   "metadata": {},
   "outputs": [
    {
     "data": {
      "text/html": [
       "<div>\n",
       "<style scoped>\n",
       "    .dataframe tbody tr th:only-of-type {\n",
       "        vertical-align: middle;\n",
       "    }\n",
       "\n",
       "    .dataframe tbody tr th {\n",
       "        vertical-align: top;\n",
       "    }\n",
       "\n",
       "    .dataframe thead th {\n",
       "        text-align: right;\n",
       "    }\n",
       "</style>\n",
       "<table border=\"1\" class=\"dataframe\">\n",
       "  <thead>\n",
       "    <tr style=\"text-align: right;\">\n",
       "      <th></th>\n",
       "      <th>meeting_no</th>\n",
       "      <th>start_time</th>\n",
       "      <th>end_time</th>\n",
       "      <th>meeting_duration</th>\n",
       "    </tr>\n",
       "  </thead>\n",
       "  <tbody>\n",
       "    <tr>\n",
       "      <th>0</th>\n",
       "      <td>575</td>\n",
       "      <td>2020-01-03 18:08:00</td>\n",
       "      <td>2020-01-03 19:52:00</td>\n",
       "      <td>01:44:00</td>\n",
       "    </tr>\n",
       "    <tr>\n",
       "      <th>23</th>\n",
       "      <td>576</td>\n",
       "      <td>2020-01-03 18:11:00</td>\n",
       "      <td>2020-01-03 20:03:00</td>\n",
       "      <td>01:52:00</td>\n",
       "    </tr>\n",
       "    <tr>\n",
       "      <th>45</th>\n",
       "      <td>577</td>\n",
       "      <td>2020-01-03 18:06:00</td>\n",
       "      <td>2020-01-03 19:47:00</td>\n",
       "      <td>01:41:00</td>\n",
       "    </tr>\n",
       "    <tr>\n",
       "      <th>68</th>\n",
       "      <td>578</td>\n",
       "      <td>2020-01-03 18:11:00</td>\n",
       "      <td>2020-01-03 19:49:00</td>\n",
       "      <td>01:38:00</td>\n",
       "    </tr>\n",
       "    <tr>\n",
       "      <th>91</th>\n",
       "      <td>579</td>\n",
       "      <td>2020-01-03 18:12:00</td>\n",
       "      <td>2020-01-03 19:57:00</td>\n",
       "      <td>01:45:00</td>\n",
       "    </tr>\n",
       "  </tbody>\n",
       "</table>\n",
       "</div>"
      ],
      "text/plain": [
       "    meeting_no          start_time            end_time meeting_duration\n",
       "0          575 2020-01-03 18:08:00 2020-01-03 19:52:00         01:44:00\n",
       "23         576 2020-01-03 18:11:00 2020-01-03 20:03:00         01:52:00\n",
       "45         577 2020-01-03 18:06:00 2020-01-03 19:47:00         01:41:00\n",
       "68         578 2020-01-03 18:11:00 2020-01-03 19:49:00         01:38:00\n",
       "91         579 2020-01-03 18:12:00 2020-01-03 19:57:00         01:45:00"
      ]
     },
     "execution_count": 12,
     "metadata": {},
     "output_type": "execute_result"
    }
   ],
   "source": [
    "speaker_data_v3['meeting_duration'] = speaker_data_v3['end_time'] - speaker_data_v3['start_time']\n",
    "meeting_duration =speaker_data_v3[['meeting_no', 'start_time', 'end_time', 'meeting_duration']].drop_duplicates()\n",
    "meeting_duration"
   ]
  },
  {
   "cell_type": "code",
   "execution_count": 13,
   "metadata": {},
   "outputs": [
    {
     "name": "stdout",
     "output_type": "stream",
     "text": [
      "('The minimum meeting duration is:', Timedelta('0 days 01:38:00'))\n",
      "('The average meeting duration is:', Timedelta('0 days 01:44:00'))\n",
      "('The maximum meeting duration is:', Timedelta('0 days 01:52:00'))\n"
     ]
    }
   ],
   "source": [
    "print('The minimum meeting duration is:', meeting_duration['meeting_duration'].min())\n",
    "print('The average meeting duration is:', meeting_duration['meeting_duration'].mean())\n",
    "print('The maximum meeting duration is:', meeting_duration['meeting_duration'].max())"
   ]
  },
  {
   "cell_type": "markdown",
   "metadata": {},
   "source": [
    "#### Number of meetings started and ended early/late"
   ]
  },
  {
   "cell_type": "markdown",
   "metadata": {},
   "source": [
    "Number of meetings started early/late"
   ]
  },
  {
   "cell_type": "code",
   "execution_count": 14,
   "metadata": {},
   "outputs": [],
   "source": [
    "meeting_duration['started_on_time'] = meeting_duration['start_time'].apply(lambda x: 'On time' if x.time() <= datetime.time(18,10) else 'Late')\n",
    "meeting_duration['started_on_time_within_5'] = meeting_duration['start_time'].apply(lambda x: 'On time' if x.time() <= datetime.time(18,15) else 'Late')"
   ]
  },
  {
   "cell_type": "code",
   "execution_count": 15,
   "metadata": {},
   "outputs": [
    {
     "data": {
      "text/plain": [
       "<matplotlib.axes._subplots.AxesSubplot at 0x7fcbc8d76fd0>"
      ]
     },
     "execution_count": 15,
     "metadata": {},
     "output_type": "execute_result"
    }
   ],
   "source": [
    "meeting_duration.groupby('started_on_time').meeting_no.count().reset_index().rename(columns={'meeting_no':'count'}).plot.bar(x='started_on_time', y='count')"
   ]
  },
  {
   "cell_type": "code",
   "execution_count": 16,
   "metadata": {},
   "outputs": [
    {
     "data": {
      "text/plain": [
       "<matplotlib.axes._subplots.AxesSubplot at 0x7fcbc89c3d10>"
      ]
     },
     "execution_count": 16,
     "metadata": {},
     "output_type": "execute_result"
    },
    {
     "data": {
      "image/png": "[encoded data removed]",
      "text/plain": [
       "<Figure size 432x288 with 1 Axes>"
      ]
     },
     "metadata": {
      "needs_background": "light"
     },
     "output_type": "display_data"
    }
   ],
   "source": [
    "meeting_duration.groupby('started_on_time_within_5').meeting_no.count().reset_index().rename(columns={'meeting_no':'count'}).plot.bar(x='started_on_time_within_5', y='count')"
   ]
  },
  {
   "cell_type": "markdown",
   "metadata": {},
   "source": [
    "Number of meetings ending late"
   ]
  },
  {
   "cell_type": "code",
   "execution_count": 17,
   "metadata": {},
   "outputs": [],
   "source": [
    "meeting_duration['ended_on_time'] = meeting_duration['end_time'].apply(lambda x: 'On time' if x.time() <= datetime.time(19,55) else 'Late')\n",
    "meeting_duration['ended_on_time_within_5'] = meeting_duration['end_time'].apply(lambda x: 'On time' if x.time() <= datetime.time(20,0) else 'Late')"
   ]
  },
  {
   "cell_type": "code",
   "execution_count": 18,
   "metadata": {},
   "outputs": [
    {
     "data": {
      "text/plain": [
       "<matplotlib.axes._subplots.AxesSubplot at 0x7fcbc892d950>"
      ]
     },
     "execution_count": 18,
     "metadata": {},
     "output_type": "execute_result"
    },
    {
     "data": {
      "image/png": "[encoded data removed]",
      "text/plain": [
       "<Figure size 432x288 with 1 Axes>"
      ]
     },
     "metadata": {
      "needs_background": "light"
     },
     "output_type": "display_data"
    }
   ],
   "source": [
    "meeting_duration.groupby('ended_on_time').meeting_no.count().reset_index().rename(columns={'meeting_no':'count'}).plot.bar(x='ended_on_time', y='count')"
   ]
  },
  {
   "cell_type": "code",
   "execution_count": 19,
   "metadata": {},
   "outputs": [
    {
     "data": {
      "text/plain": [
       "<matplotlib.axes._subplots.AxesSubplot at 0x7fcbc88aec10>"
      ]
     },
     "execution_count": 19,
     "metadata": {},
     "output_type": "execute_result"
    },
    {
     "data": {
      "image/png": "[encoded data removed]",
      "text/plain": [
       "<Figure size 432x288 with 1 Axes>"
      ]
     },
     "metadata": {
      "needs_background": "light"
     },
     "output_type": "display_data"
    }
   ],
   "source": [
    "meeting_duration.groupby('ended_on_time_within_5').meeting_no.count().reset_index().rename(columns={'meeting_no':'count'}).plot.bar(x='ended_on_time_within_5', y='count')"
   ]
  },
  {
   "cell_type": "code",
   "execution_count": 20,
   "metadata": {},
   "outputs": [
    {
     "data": {
      "text/html": [
       "<div>\n",
       "<style scoped>\n",
       "    .dataframe tbody tr th:only-of-type {\n",
       "        vertical-align: middle;\n",
       "    }\n",
       "\n",
       "    .dataframe tbody tr th {\n",
       "        vertical-align: top;\n",
       "    }\n",
       "\n",
       "    .dataframe thead th {\n",
       "        text-align: right;\n",
       "    }\n",
       "</style>\n",
       "<table border=\"1\" class=\"dataframe\">\n",
       "  <thead>\n",
       "    <tr style=\"text-align: right;\">\n",
       "      <th></th>\n",
       "      <th>meeting_no</th>\n",
       "      <th>start_time</th>\n",
       "      <th>end_time</th>\n",
       "      <th>meeting_duration</th>\n",
       "      <th>started_on_time</th>\n",
       "      <th>started_on_time_within_5</th>\n",
       "      <th>ended_on_time</th>\n",
       "      <th>ended_on_time_within_5</th>\n",
       "    </tr>\n",
       "  </thead>\n",
       "  <tbody>\n",
       "    <tr>\n",
       "      <th>0</th>\n",
       "      <td>575</td>\n",
       "      <td>2020-01-03 18:08:00</td>\n",
       "      <td>2020-01-03 19:52:00</td>\n",
       "      <td>01:44:00</td>\n",
       "      <td>On time</td>\n",
       "      <td>On time</td>\n",
       "      <td>On time</td>\n",
       "      <td>On time</td>\n",
       "    </tr>\n",
       "    <tr>\n",
       "      <th>23</th>\n",
       "      <td>576</td>\n",
       "      <td>2020-01-03 18:11:00</td>\n",
       "      <td>2020-01-03 20:03:00</td>\n",
       "      <td>01:52:00</td>\n",
       "      <td>Late</td>\n",
       "      <td>On time</td>\n",
       "      <td>Late</td>\n",
       "      <td>Late</td>\n",
       "    </tr>\n",
       "    <tr>\n",
       "      <th>45</th>\n",
       "      <td>577</td>\n",
       "      <td>2020-01-03 18:06:00</td>\n",
       "      <td>2020-01-03 19:47:00</td>\n",
       "      <td>01:41:00</td>\n",
       "      <td>On time</td>\n",
       "      <td>On time</td>\n",
       "      <td>On time</td>\n",
       "      <td>On time</td>\n",
       "    </tr>\n",
       "    <tr>\n",
       "      <th>68</th>\n",
       "      <td>578</td>\n",
       "      <td>2020-01-03 18:11:00</td>\n",
       "      <td>2020-01-03 19:49:00</td>\n",
       "      <td>01:38:00</td>\n",
       "      <td>Late</td>\n",
       "      <td>On time</td>\n",
       "      <td>On time</td>\n",
       "      <td>On time</td>\n",
       "    </tr>\n",
       "    <tr>\n",
       "      <th>91</th>\n",
       "      <td>579</td>\n",
       "      <td>2020-01-03 18:12:00</td>\n",
       "      <td>2020-01-03 19:57:00</td>\n",
       "      <td>01:45:00</td>\n",
       "      <td>Late</td>\n",
       "      <td>On time</td>\n",
       "      <td>Late</td>\n",
       "      <td>On time</td>\n",
       "    </tr>\n",
       "  </tbody>\n",
       "</table>\n",
       "</div>"
      ],
      "text/plain": [
       "    meeting_no          start_time            end_time meeting_duration  \\\n",
       "0          575 2020-01-03 18:08:00 2020-01-03 19:52:00         01:44:00   \n",
       "23         576 2020-01-03 18:11:00 2020-01-03 20:03:00         01:52:00   \n",
       "45         577 2020-01-03 18:06:00 2020-01-03 19:47:00         01:41:00   \n",
       "68         578 2020-01-03 18:11:00 2020-01-03 19:49:00         01:38:00   \n",
       "91         579 2020-01-03 18:12:00 2020-01-03 19:57:00         01:45:00   \n",
       "\n",
       "   started_on_time started_on_time_within_5 ended_on_time  \\\n",
       "0          On time                  On time       On time   \n",
       "23            Late                  On time          Late   \n",
       "45         On time                  On time       On time   \n",
       "68            Late                  On time       On time   \n",
       "91            Late                  On time          Late   \n",
       "\n",
       "   ended_on_time_within_5  \n",
       "0                 On time  \n",
       "23                   Late  \n",
       "45                On time  \n",
       "68                On time  \n",
       "91                On time  "
      ]
     },
     "execution_count": 20,
     "metadata": {},
     "output_type": "execute_result"
    }
   ],
   "source": [
    "meeting_duration"
   ]
  },
  {
   "cell_type": "markdown",
   "metadata": {},
   "source": [
    "# Specific Agenda Groupings\n",
    "There are x grouping for our agenda. They are:\n",
    "- Introduce Guest and Theme\n",
    "- Evaluation Introduction\n",
    "    - General Evaluator intro\n",
    "    - Ah Counter intro\n",
    "    - Grammarian intro\n",
    "    - Timer intro\n",
    "- Speech Program\n",
    "    - All speakers\n",
    "- Table Topics\n",
    "- Break\n",
    "- Evaluation\n",
    "    - All speech evaluations\n",
    "    - Ah Counter report\n",
    "    - Grammarian report\n",
    "    - Timer report\n",
    "- Club Business\n",
    "- Comments/Annoucements\n",
    "    - Guest comments\n",
    "    - Ajourn\n",
    "\n",
    "Individual roles such as the \"sign-up sheet distribution\" and \"timer\" were not timed."
   ]
  },
  {
   "cell_type": "code",
   "execution_count": 21,
   "metadata": {},
   "outputs": [
    {
     "data": {
      "text/plain": [
       "(35, 5)"
      ]
     },
     "execution_count": 21,
     "metadata": {},
     "output_type": "execute_result"
    }
   ],
   "source": [
    "meeting_sections = speaker_data_v3[['meeting_no', 'meeting_date', 'meeting_chunk', 'actual_chunk_minutes', 'chunk_minutes']].drop_duplicates()\n",
    "meeting_sections.shape"
   ]
  },
  {
   "cell_type": "code",
   "execution_count": 22,
   "metadata": {},
   "outputs": [
    {
     "data": {
      "text/html": [
       "<div>\n",
       "<style scoped>\n",
       "    .dataframe tbody tr th:only-of-type {\n",
       "        vertical-align: middle;\n",
       "    }\n",
       "\n",
       "    .dataframe tbody tr th {\n",
       "        vertical-align: top;\n",
       "    }\n",
       "\n",
       "    .dataframe thead th {\n",
       "        text-align: right;\n",
       "    }\n",
       "</style>\n",
       "<table border=\"1\" class=\"dataframe\">\n",
       "  <thead>\n",
       "    <tr style=\"text-align: right;\">\n",
       "      <th></th>\n",
       "      <th>meeting_chunk</th>\n",
       "      <th>allotted_section_time</th>\n",
       "      <th>avg_section_time</th>\n",
       "      <th>percent_of_alloted_time</th>\n",
       "    </tr>\n",
       "  </thead>\n",
       "  <tbody>\n",
       "    <tr>\n",
       "      <th>4</th>\n",
       "      <td>5. Evaluation</td>\n",
       "      <td>15.0</td>\n",
       "      <td>20.526667</td>\n",
       "      <td>1.368444</td>\n",
       "    </tr>\n",
       "    <tr>\n",
       "      <th>0</th>\n",
       "      <td>1. Introduce Guest and Theme</td>\n",
       "      <td>5.0</td>\n",
       "      <td>6.590000</td>\n",
       "      <td>1.318000</td>\n",
       "    </tr>\n",
       "    <tr>\n",
       "      <th>1</th>\n",
       "      <td>2. Evaluation Introduction</td>\n",
       "      <td>5.0</td>\n",
       "      <td>5.310000</td>\n",
       "      <td>1.062000</td>\n",
       "    </tr>\n",
       "    <tr>\n",
       "      <th>2</th>\n",
       "      <td>3. Speech Program</td>\n",
       "      <td>30.0</td>\n",
       "      <td>31.236667</td>\n",
       "      <td>1.041222</td>\n",
       "    </tr>\n",
       "    <tr>\n",
       "      <th>3</th>\n",
       "      <td>4. Table Topics</td>\n",
       "      <td>20.0</td>\n",
       "      <td>17.537597</td>\n",
       "      <td>0.876880</td>\n",
       "    </tr>\n",
       "    <tr>\n",
       "      <th>5</th>\n",
       "      <td>6. Club Business</td>\n",
       "      <td>10.0</td>\n",
       "      <td>3.646667</td>\n",
       "      <td>0.364667</td>\n",
       "    </tr>\n",
       "    <tr>\n",
       "      <th>6</th>\n",
       "      <td>7. Comments/Annoucements</td>\n",
       "      <td>10.0</td>\n",
       "      <td>3.463333</td>\n",
       "      <td>0.346333</td>\n",
       "    </tr>\n",
       "  </tbody>\n",
       "</table>\n",
       "</div>"
      ],
      "text/plain": [
       "                  meeting_chunk  allotted_section_time  avg_section_time  \\\n",
       "4                 5. Evaluation                   15.0         20.526667   \n",
       "0  1. Introduce Guest and Theme                    5.0          6.590000   \n",
       "1    2. Evaluation Introduction                    5.0          5.310000   \n",
       "2             3. Speech Program                   30.0         31.236667   \n",
       "3               4. Table Topics                   20.0         17.537597   \n",
       "5              6. Club Business                   10.0          3.646667   \n",
       "6      7. Comments/Annoucements                   10.0          3.463333   \n",
       "\n",
       "   percent_of_alloted_time  \n",
       "4                 1.368444  \n",
       "0                 1.318000  \n",
       "1                 1.062000  \n",
       "2                 1.041222  \n",
       "3                 0.876880  \n",
       "5                 0.364667  \n",
       "6                 0.346333  "
      ]
     },
     "execution_count": 22,
     "metadata": {},
     "output_type": "execute_result"
    }
   ],
   "source": [
    "avg_section_time = (speaker_data_v3\n",
    "                        .groupby(['meeting_chunk'])\n",
    "                        .agg({'chunk_minutes': 'mean', 'actual_chunk_minutes':'mean'})\n",
    "                        .reset_index()\n",
    "                        .rename(columns={'chunk_minutes': 'allotted_section_time',\n",
    "                                         'actual_chunk_minutes': 'avg_section_time'}))\n",
    "\n",
    "avg_section_time['percent_of_alloted_time'] = avg_section_time['avg_section_time']/avg_section_time['allotted_section_time']\n",
    "avg_section_time = avg_section_time.sort_values(by='percent_of_alloted_time', ascending = False)\n",
    "avg_section_time"
   ]
  },
  {
   "cell_type": "code",
   "execution_count": null,
   "metadata": {},
   "outputs": [],
   "source": []
  },
  {
   "cell_type": "code",
   "execution_count": 23,
   "metadata": {},
   "outputs": [
    {
     "name": "stdout",
     "output_type": "stream",
     "text": [
      "('The avg break time is :', 6.8199999999999985)\n",
      "('max:', 7.666666666666667)\n",
      "('min:', 6.166666666666667)\n"
     ]
    }
   ],
   "source": [
    "avg_break_time = meeting_chunks_v2[meeting_chunks_v2['Meeting Chuck']=='Break'].actual_chunk_minutes.mean()\n",
    "print('The avg break time is :', avg_break_time)\n",
    "print('max:', meeting_chunks_v2[meeting_chunks_v2['Meeting Chuck']=='Break'].actual_chunk_minutes.max())\n",
    "print('min:', meeting_chunks_v2[meeting_chunks_v2['Meeting Chuck']=='Break'].actual_chunk_minutes.min())"
   ]
  },
  {
   "cell_type": "markdown",
   "metadata": {},
   "source": [
    "## Total Number of Roles"
   ]
  },
  {
   "cell_type": "code",
   "execution_count": 24,
   "metadata": {},
   "outputs": [
    {
     "name": "stdout",
     "output_type": "stream",
     "text": [
      "('Total number of speaker roles over the 5 meetings:', 118)\n"
     ]
    }
   ],
   "source": [
    "total_num_speaker_roles = speaker_data_v3.shape[0]\n",
    "print('Total number of speaker roles over the 5 meetings:', total_num_speaker_roles)"
   ]
  },
  {
   "cell_type": "code",
   "execution_count": 25,
   "metadata": {},
   "outputs": [
    {
     "name": "stdout",
     "output_type": "stream",
     "text": [
      "('Total number of timed speaker roles over the 5 meetings:', 83)\n"
     ]
    }
   ],
   "source": [
    "num_timed_roles = total_num_speaker_roles - speaker_data_v3[speaker_data_v3['allotted_speaker_minutes']==0].shape[0]\n",
    "print('Total number of timed speaker roles over the 5 meetings:', num_timed_roles)"
   ]
  },
  {
   "cell_type": "code",
   "execution_count": 26,
   "metadata": {},
   "outputs": [
    {
     "name": "stdout",
     "output_type": "stream",
     "text": [
      "('This is the number of timed roles that are over the alloted time:', 23)\n",
      "('percent roles over time:', 0.27710843373493976)\n"
     ]
    }
   ],
   "source": [
    "speaker_data_v3['speaker_over_time'] = np.where((speaker_data_v3['allotted_speaker_minutes']!=0) & \n",
    "                                               (speaker_data_v3['total_actual_speaker_minutes']>speaker_data_v3['allotted_speaker_minutes']), 1, 0)\n",
    "num_timed_roles_overtime = speaker_data_v3[speaker_data_v3['speaker_over_time']==1].shape[0]\n",
    "print('This is the number of timed roles that are over the alloted time:', num_timed_roles_overtime)\n",
    "print('percent roles over time:', num_timed_roles_overtime/(num_timed_roles*1.0))"
   ]
  },
  {
   "cell_type": "code",
   "execution_count": 27,
   "metadata": {},
   "outputs": [
    {
     "name": "stdout",
     "output_type": "stream",
     "text": [
      "('This is the number of timed roles that are 30 seconds over the alloted time:', 15)\n",
      "('percent roles > 30 seconds over time:', 0.18072289156626506)\n"
     ]
    }
   ],
   "source": [
    "speaker_data_v3['speaker_30_over_time'] = np.where((speaker_data_v3['allotted_speaker_minutes']!=0) & \n",
    "                                               (speaker_data_v3['total_actual_speaker_minutes']>(speaker_data_v3['allotted_speaker_minutes']+0.5)), 1, 0)\n",
    "num_timed_roles_30_overtime = speaker_data_v3[speaker_data_v3['speaker_30_over_time']==1].shape[0]\n",
    "print('This is the number of timed roles that are 30 seconds over the alloted time:', num_timed_roles_30_overtime)\n",
    "print('percent roles > 30 seconds over time:', num_timed_roles_30_overtime/(num_timed_roles*1.0))"
   ]
  },
  {
   "cell_type": "code",
   "execution_count": 28,
   "metadata": {},
   "outputs": [
    {
     "data": {
      "text/html": [
       "<div>\n",
       "<style scoped>\n",
       "    .dataframe tbody tr th:only-of-type {\n",
       "        vertical-align: middle;\n",
       "    }\n",
       "\n",
       "    .dataframe tbody tr th {\n",
       "        vertical-align: top;\n",
       "    }\n",
       "\n",
       "    .dataframe thead th {\n",
       "        text-align: right;\n",
       "    }\n",
       "</style>\n",
       "<table border=\"1\" class=\"dataframe\">\n",
       "  <thead>\n",
       "    <tr style=\"text-align: right;\">\n",
       "      <th></th>\n",
       "      <th>meeting_no</th>\n",
       "      <th>meeting_date</th>\n",
       "      <th>start_time</th>\n",
       "      <th>end_time</th>\n",
       "      <th>meeting_chunk</th>\n",
       "      <th>role_name</th>\n",
       "      <th>allotted_hour</th>\n",
       "      <th>allotted_minute</th>\n",
       "      <th>alloted_seconds</th>\n",
       "      <th>alloted_time</th>\n",
       "      <th>...</th>\n",
       "      <th>actual_time</th>\n",
       "      <th>no_guests</th>\n",
       "      <th>total_actual_speaker_minutes</th>\n",
       "      <th>allotted_speaker_minutes</th>\n",
       "      <th>comments</th>\n",
       "      <th>actual_chunk_minutes</th>\n",
       "      <th>chunk_minutes</th>\n",
       "      <th>meeting_duration</th>\n",
       "      <th>speaker_over_time</th>\n",
       "      <th>speaker_30_over_time</th>\n",
       "    </tr>\n",
       "  </thead>\n",
       "  <tbody>\n",
       "    <tr>\n",
       "      <th>0</th>\n",
       "      <td>575</td>\n",
       "      <td>11/6/2019</td>\n",
       "      <td>2020-01-03 18:08:00</td>\n",
       "      <td>2020-01-03 19:52:00</td>\n",
       "      <td>1. Introduce Guest and Theme</td>\n",
       "      <td>TME Theme Introduction</td>\n",
       "      <td>0</td>\n",
       "      <td>0</td>\n",
       "      <td>0</td>\n",
       "      <td>0:00:00</td>\n",
       "      <td>...</td>\n",
       "      <td>0:03:48</td>\n",
       "      <td>NaN</td>\n",
       "      <td>3.800000</td>\n",
       "      <td>0.0</td>\n",
       "      <td>NaN</td>\n",
       "      <td>9.300000</td>\n",
       "      <td>5.0</td>\n",
       "      <td>01:44:00</td>\n",
       "      <td>0</td>\n",
       "      <td>0</td>\n",
       "    </tr>\n",
       "    <tr>\n",
       "      <th>1</th>\n",
       "      <td>575</td>\n",
       "      <td>11/6/2019</td>\n",
       "      <td>2020-01-03 18:08:00</td>\n",
       "      <td>2020-01-03 19:52:00</td>\n",
       "      <td>1. Introduce Guest and Theme</td>\n",
       "      <td>Guest Introductions</td>\n",
       "      <td>0</td>\n",
       "      <td>0</td>\n",
       "      <td>0</td>\n",
       "      <td>0:00:00</td>\n",
       "      <td>...</td>\n",
       "      <td>0:04:19</td>\n",
       "      <td>6.0</td>\n",
       "      <td>4.316667</td>\n",
       "      <td>0.0</td>\n",
       "      <td>NaN</td>\n",
       "      <td>9.300000</td>\n",
       "      <td>5.0</td>\n",
       "      <td>01:44:00</td>\n",
       "      <td>0</td>\n",
       "      <td>0</td>\n",
       "    </tr>\n",
       "    <tr>\n",
       "      <th>2</th>\n",
       "      <td>575</td>\n",
       "      <td>11/6/2019</td>\n",
       "      <td>2020-01-03 18:08:00</td>\n",
       "      <td>2020-01-03 19:52:00</td>\n",
       "      <td>2. Evaluation Introduction</td>\n",
       "      <td>Ah Counter Role</td>\n",
       "      <td>0</td>\n",
       "      <td>0</td>\n",
       "      <td>0</td>\n",
       "      <td>0:00:00</td>\n",
       "      <td>...</td>\n",
       "      <td>0:00:51</td>\n",
       "      <td>NaN</td>\n",
       "      <td>0.850000</td>\n",
       "      <td>0.0</td>\n",
       "      <td>NaN</td>\n",
       "      <td>5.766667</td>\n",
       "      <td>5.0</td>\n",
       "      <td>01:44:00</td>\n",
       "      <td>0</td>\n",
       "      <td>0</td>\n",
       "    </tr>\n",
       "    <tr>\n",
       "      <th>3</th>\n",
       "      <td>575</td>\n",
       "      <td>11/6/2019</td>\n",
       "      <td>2020-01-03 18:08:00</td>\n",
       "      <td>2020-01-03 19:52:00</td>\n",
       "      <td>2. Evaluation Introduction</td>\n",
       "      <td>Grammarian Role</td>\n",
       "      <td>0</td>\n",
       "      <td>0</td>\n",
       "      <td>0</td>\n",
       "      <td>0:00:00</td>\n",
       "      <td>...</td>\n",
       "      <td>0:03:12</td>\n",
       "      <td>NaN</td>\n",
       "      <td>3.200000</td>\n",
       "      <td>0.0</td>\n",
       "      <td>NaN</td>\n",
       "      <td>5.766667</td>\n",
       "      <td>5.0</td>\n",
       "      <td>01:44:00</td>\n",
       "      <td>0</td>\n",
       "      <td>0</td>\n",
       "    </tr>\n",
       "    <tr>\n",
       "      <th>4</th>\n",
       "      <td>575</td>\n",
       "      <td>11/6/2019</td>\n",
       "      <td>2020-01-03 18:08:00</td>\n",
       "      <td>2020-01-03 19:52:00</td>\n",
       "      <td>3. Speech Program</td>\n",
       "      <td>Speaker</td>\n",
       "      <td>0</td>\n",
       "      <td>4</td>\n",
       "      <td>0</td>\n",
       "      <td>0:04:00</td>\n",
       "      <td>...</td>\n",
       "      <td>0:03:23</td>\n",
       "      <td>NaN</td>\n",
       "      <td>3.383333</td>\n",
       "      <td>4.0</td>\n",
       "      <td>NaN</td>\n",
       "      <td>28.450000</td>\n",
       "      <td>30.0</td>\n",
       "      <td>01:44:00</td>\n",
       "      <td>0</td>\n",
       "      <td>0</td>\n",
       "    </tr>\n",
       "  </tbody>\n",
       "</table>\n",
       "<p>5 rows × 23 columns</p>\n",
       "</div>"
      ],
      "text/plain": [
       "   meeting_no meeting_date          start_time            end_time  \\\n",
       "0         575    11/6/2019 2020-01-03 18:08:00 2020-01-03 19:52:00   \n",
       "1         575    11/6/2019 2020-01-03 18:08:00 2020-01-03 19:52:00   \n",
       "2         575    11/6/2019 2020-01-03 18:08:00 2020-01-03 19:52:00   \n",
       "3         575    11/6/2019 2020-01-03 18:08:00 2020-01-03 19:52:00   \n",
       "4         575    11/6/2019 2020-01-03 18:08:00 2020-01-03 19:52:00   \n",
       "\n",
       "                  meeting_chunk               role_name  allotted_hour  \\\n",
       "0  1. Introduce Guest and Theme  TME Theme Introduction              0   \n",
       "1  1. Introduce Guest and Theme     Guest Introductions              0   \n",
       "2    2. Evaluation Introduction         Ah Counter Role              0   \n",
       "3    2. Evaluation Introduction         Grammarian Role              0   \n",
       "4             3. Speech Program                 Speaker              0   \n",
       "\n",
       "   allotted_minute  alloted_seconds alloted_time          ...           \\\n",
       "0                0                0      0:00:00          ...            \n",
       "1                0                0      0:00:00          ...            \n",
       "2                0                0      0:00:00          ...            \n",
       "3                0                0      0:00:00          ...            \n",
       "4                4                0      0:04:00          ...            \n",
       "\n",
       "   actual_time  no_guests  total_actual_speaker_minutes  \\\n",
       "0      0:03:48        NaN                      3.800000   \n",
       "1      0:04:19        6.0                      4.316667   \n",
       "2      0:00:51        NaN                      0.850000   \n",
       "3      0:03:12        NaN                      3.200000   \n",
       "4      0:03:23        NaN                      3.383333   \n",
       "\n",
       "  allotted_speaker_minutes  comments  actual_chunk_minutes  chunk_minutes  \\\n",
       "0                      0.0       NaN              9.300000            5.0   \n",
       "1                      0.0       NaN              9.300000            5.0   \n",
       "2                      0.0       NaN              5.766667            5.0   \n",
       "3                      0.0       NaN              5.766667            5.0   \n",
       "4                      4.0       NaN             28.450000           30.0   \n",
       "\n",
       "  meeting_duration  speaker_over_time  speaker_30_over_time  \n",
       "0         01:44:00                  0                     0  \n",
       "1         01:44:00                  0                     0  \n",
       "2         01:44:00                  0                     0  \n",
       "3         01:44:00                  0                     0  \n",
       "4         01:44:00                  0                     0  \n",
       "\n",
       "[5 rows x 23 columns]"
      ]
     },
     "execution_count": 28,
     "metadata": {},
     "output_type": "execute_result"
    }
   ],
   "source": [
    "speaker_data_v3.head()"
   ]
  },
  {
   "cell_type": "code",
   "execution_count": 32,
   "metadata": {},
   "outputs": [
    {
     "data": {
      "text/plain": [
       "(15, 23)"
      ]
     },
     "execution_count": 32,
     "metadata": {},
     "output_type": "execute_result"
    }
   ],
   "source": [
    "speaker_data_v3[speaker_data_v3['meeting_chunk']== '3. Speech Program'].shape"
   ]
  },
  {
   "cell_type": "code",
   "execution_count": 30,
   "metadata": {},
   "outputs": [
    {
     "data": {
      "text/html": [
       "<div>\n",
       "<style scoped>\n",
       "    .dataframe tbody tr th:only-of-type {\n",
       "        vertical-align: middle;\n",
       "    }\n",
       "\n",
       "    .dataframe tbody tr th {\n",
       "        vertical-align: top;\n",
       "    }\n",
       "\n",
       "    .dataframe thead th {\n",
       "        text-align: right;\n",
       "    }\n",
       "</style>\n",
       "<table border=\"1\" class=\"dataframe\">\n",
       "  <thead>\n",
       "    <tr style=\"text-align: right;\">\n",
       "      <th></th>\n",
       "      <th>meeting_chunk</th>\n",
       "      <th>speaker_30_over_time</th>\n",
       "      <th>role_name</th>\n",
       "      <th>speaker_over_time</th>\n",
       "    </tr>\n",
       "  </thead>\n",
       "  <tbody>\n",
       "    <tr>\n",
       "      <th>2</th>\n",
       "      <td>3. Speech Program</td>\n",
       "      <td>9</td>\n",
       "      <td>15</td>\n",
       "      <td>10</td>\n",
       "    </tr>\n",
       "    <tr>\n",
       "      <th>3</th>\n",
       "      <td>4. Table Topics</td>\n",
       "      <td>0</td>\n",
       "      <td>43</td>\n",
       "      <td>2</td>\n",
       "    </tr>\n",
       "    <tr>\n",
       "      <th>4</th>\n",
       "      <td>5. Evaluation</td>\n",
       "      <td>6</td>\n",
       "      <td>30</td>\n",
       "      <td>11</td>\n",
       "    </tr>\n",
       "  </tbody>\n",
       "</table>\n",
       "</div>"
      ],
      "text/plain": [
       "       meeting_chunk  speaker_30_over_time  role_name  speaker_over_time\n",
       "2  3. Speech Program                     9         15                 10\n",
       "3    4. Table Topics                     0         43                  2\n",
       "4      5. Evaluation                     6         30                 11"
      ]
     },
     "execution_count": 30,
     "metadata": {},
     "output_type": "execute_result"
    }
   ],
   "source": [
    "over_alloted_time_df = (speaker_data_v3\n",
    "                        .groupby('meeting_chunk')\n",
    "                        .agg({'role_name': 'count', 'speaker_30_over_time':'sum', 'speaker_over_time':'sum'})\n",
    "                        .reset_index())\n",
    "over_alloted_time_df = over_alloted_time_df[over_alloted_time_df['speaker_over_time']>0]\n",
    "over_alloted_time_df"
   ]
  },
  {
   "cell_type": "markdown",
   "metadata": {},
   "source": [
    "### Evaluation Section\n",
    "- On average this section has 7 speakers: 3 speech evaluators, grammarian, timer, ah counter and general evaluator\n",
    "- Assume each speech evaluator and the general evaluator speaks for 3 minutes. Assume timer, ah counter and grammarian speak for 1 minute each. This adds up to 15 minutes. There is no room for error here\n",
    "- No space for 30 second overage period"
   ]
  },
  {
   "cell_type": "code",
   "execution_count": 33,
   "metadata": {},
   "outputs": [
    {
     "data": {
      "text/html": [
       "<div>\n",
       "<style scoped>\n",
       "    .dataframe tbody tr th:only-of-type {\n",
       "        vertical-align: middle;\n",
       "    }\n",
       "\n",
       "    .dataframe tbody tr th {\n",
       "        vertical-align: top;\n",
       "    }\n",
       "\n",
       "    .dataframe thead th {\n",
       "        text-align: right;\n",
       "    }\n",
       "</style>\n",
       "<table border=\"1\" class=\"dataframe\">\n",
       "  <thead>\n",
       "    <tr style=\"text-align: right;\">\n",
       "      <th></th>\n",
       "      <th>meeting_no</th>\n",
       "      <th>meeting_date</th>\n",
       "      <th>start_time</th>\n",
       "      <th>end_time</th>\n",
       "      <th>meeting_chunk</th>\n",
       "      <th>role_name</th>\n",
       "      <th>allotted_hour</th>\n",
       "      <th>allotted_minute</th>\n",
       "      <th>alloted_seconds</th>\n",
       "      <th>alloted_time</th>\n",
       "      <th>...</th>\n",
       "      <th>actual_time</th>\n",
       "      <th>no_guests</th>\n",
       "      <th>total_actual_speaker_minutes</th>\n",
       "      <th>allotted_speaker_minutes</th>\n",
       "      <th>comments</th>\n",
       "      <th>actual_chunk_minutes</th>\n",
       "      <th>chunk_minutes</th>\n",
       "      <th>meeting_duration</th>\n",
       "      <th>speaker_over_time</th>\n",
       "      <th>speaker_30_over_time</th>\n",
       "    </tr>\n",
       "  </thead>\n",
       "  <tbody>\n",
       "    <tr>\n",
       "      <th>0</th>\n",
       "      <td>575</td>\n",
       "      <td>11/6/2019</td>\n",
       "      <td>2020-01-03 18:08:00</td>\n",
       "      <td>2020-01-03 19:52:00</td>\n",
       "      <td>1. Introduce Guest and Theme</td>\n",
       "      <td>TME Theme Introduction</td>\n",
       "      <td>0</td>\n",
       "      <td>0</td>\n",
       "      <td>0</td>\n",
       "      <td>0:00:00</td>\n",
       "      <td>...</td>\n",
       "      <td>0:03:48</td>\n",
       "      <td>NaN</td>\n",
       "      <td>3.800000</td>\n",
       "      <td>0.0</td>\n",
       "      <td>NaN</td>\n",
       "      <td>9.300000</td>\n",
       "      <td>5.0</td>\n",
       "      <td>01:44:00</td>\n",
       "      <td>0</td>\n",
       "      <td>0</td>\n",
       "    </tr>\n",
       "    <tr>\n",
       "      <th>1</th>\n",
       "      <td>575</td>\n",
       "      <td>11/6/2019</td>\n",
       "      <td>2020-01-03 18:08:00</td>\n",
       "      <td>2020-01-03 19:52:00</td>\n",
       "      <td>1. Introduce Guest and Theme</td>\n",
       "      <td>Guest Introductions</td>\n",
       "      <td>0</td>\n",
       "      <td>0</td>\n",
       "      <td>0</td>\n",
       "      <td>0:00:00</td>\n",
       "      <td>...</td>\n",
       "      <td>0:04:19</td>\n",
       "      <td>6.0</td>\n",
       "      <td>4.316667</td>\n",
       "      <td>0.0</td>\n",
       "      <td>NaN</td>\n",
       "      <td>9.300000</td>\n",
       "      <td>5.0</td>\n",
       "      <td>01:44:00</td>\n",
       "      <td>0</td>\n",
       "      <td>0</td>\n",
       "    </tr>\n",
       "    <tr>\n",
       "      <th>2</th>\n",
       "      <td>575</td>\n",
       "      <td>11/6/2019</td>\n",
       "      <td>2020-01-03 18:08:00</td>\n",
       "      <td>2020-01-03 19:52:00</td>\n",
       "      <td>2. Evaluation Introduction</td>\n",
       "      <td>Ah Counter Role</td>\n",
       "      <td>0</td>\n",
       "      <td>0</td>\n",
       "      <td>0</td>\n",
       "      <td>0:00:00</td>\n",
       "      <td>...</td>\n",
       "      <td>0:00:51</td>\n",
       "      <td>NaN</td>\n",
       "      <td>0.850000</td>\n",
       "      <td>0.0</td>\n",
       "      <td>NaN</td>\n",
       "      <td>5.766667</td>\n",
       "      <td>5.0</td>\n",
       "      <td>01:44:00</td>\n",
       "      <td>0</td>\n",
       "      <td>0</td>\n",
       "    </tr>\n",
       "    <tr>\n",
       "      <th>3</th>\n",
       "      <td>575</td>\n",
       "      <td>11/6/2019</td>\n",
       "      <td>2020-01-03 18:08:00</td>\n",
       "      <td>2020-01-03 19:52:00</td>\n",
       "      <td>2. Evaluation Introduction</td>\n",
       "      <td>Grammarian Role</td>\n",
       "      <td>0</td>\n",
       "      <td>0</td>\n",
       "      <td>0</td>\n",
       "      <td>0:00:00</td>\n",
       "      <td>...</td>\n",
       "      <td>0:03:12</td>\n",
       "      <td>NaN</td>\n",
       "      <td>3.200000</td>\n",
       "      <td>0.0</td>\n",
       "      <td>NaN</td>\n",
       "      <td>5.766667</td>\n",
       "      <td>5.0</td>\n",
       "      <td>01:44:00</td>\n",
       "      <td>0</td>\n",
       "      <td>0</td>\n",
       "    </tr>\n",
       "    <tr>\n",
       "      <th>4</th>\n",
       "      <td>575</td>\n",
       "      <td>11/6/2019</td>\n",
       "      <td>2020-01-03 18:08:00</td>\n",
       "      <td>2020-01-03 19:52:00</td>\n",
       "      <td>3. Speech Program</td>\n",
       "      <td>Speaker</td>\n",
       "      <td>0</td>\n",
       "      <td>4</td>\n",
       "      <td>0</td>\n",
       "      <td>0:04:00</td>\n",
       "      <td>...</td>\n",
       "      <td>0:03:23</td>\n",
       "      <td>NaN</td>\n",
       "      <td>3.383333</td>\n",
       "      <td>4.0</td>\n",
       "      <td>NaN</td>\n",
       "      <td>28.450000</td>\n",
       "      <td>30.0</td>\n",
       "      <td>01:44:00</td>\n",
       "      <td>0</td>\n",
       "      <td>0</td>\n",
       "    </tr>\n",
       "  </tbody>\n",
       "</table>\n",
       "<p>5 rows × 23 columns</p>\n",
       "</div>"
      ],
      "text/plain": [
       "   meeting_no meeting_date          start_time            end_time  \\\n",
       "0         575    11/6/2019 2020-01-03 18:08:00 2020-01-03 19:52:00   \n",
       "1         575    11/6/2019 2020-01-03 18:08:00 2020-01-03 19:52:00   \n",
       "2         575    11/6/2019 2020-01-03 18:08:00 2020-01-03 19:52:00   \n",
       "3         575    11/6/2019 2020-01-03 18:08:00 2020-01-03 19:52:00   \n",
       "4         575    11/6/2019 2020-01-03 18:08:00 2020-01-03 19:52:00   \n",
       "\n",
       "                  meeting_chunk               role_name  allotted_hour  \\\n",
       "0  1. Introduce Guest and Theme  TME Theme Introduction              0   \n",
       "1  1. Introduce Guest and Theme     Guest Introductions              0   \n",
       "2    2. Evaluation Introduction         Ah Counter Role              0   \n",
       "3    2. Evaluation Introduction         Grammarian Role              0   \n",
       "4             3. Speech Program                 Speaker              0   \n",
       "\n",
       "   allotted_minute  alloted_seconds alloted_time          ...           \\\n",
       "0                0                0      0:00:00          ...            \n",
       "1                0                0      0:00:00          ...            \n",
       "2                0                0      0:00:00          ...            \n",
       "3                0                0      0:00:00          ...            \n",
       "4                4                0      0:04:00          ...            \n",
       "\n",
       "   actual_time  no_guests  total_actual_speaker_minutes  \\\n",
       "0      0:03:48        NaN                      3.800000   \n",
       "1      0:04:19        6.0                      4.316667   \n",
       "2      0:00:51        NaN                      0.850000   \n",
       "3      0:03:12        NaN                      3.200000   \n",
       "4      0:03:23        NaN                      3.383333   \n",
       "\n",
       "  allotted_speaker_minutes  comments  actual_chunk_minutes  chunk_minutes  \\\n",
       "0                      0.0       NaN              9.300000            5.0   \n",
       "1                      0.0       NaN              9.300000            5.0   \n",
       "2                      0.0       NaN              5.766667            5.0   \n",
       "3                      0.0       NaN              5.766667            5.0   \n",
       "4                      4.0       NaN             28.450000           30.0   \n",
       "\n",
       "  meeting_duration  speaker_over_time  speaker_30_over_time  \n",
       "0         01:44:00                  0                     0  \n",
       "1         01:44:00                  0                     0  \n",
       "2         01:44:00                  0                     0  \n",
       "3         01:44:00                  0                     0  \n",
       "4         01:44:00                  0                     0  \n",
       "\n",
       "[5 rows x 23 columns]"
      ]
     },
     "execution_count": 33,
     "metadata": {},
     "output_type": "execute_result"
    }
   ],
   "source": [
    "speaker_data_v3.head()"
   ]
  },
  {
   "cell_type": "code",
   "execution_count": 37,
   "metadata": {},
   "outputs": [
    {
     "data": {
      "text/html": [
       "<div>\n",
       "<style scoped>\n",
       "    .dataframe tbody tr th:only-of-type {\n",
       "        vertical-align: middle;\n",
       "    }\n",
       "\n",
       "    .dataframe tbody tr th {\n",
       "        vertical-align: top;\n",
       "    }\n",
       "\n",
       "    .dataframe thead th {\n",
       "        text-align: right;\n",
       "    }\n",
       "</style>\n",
       "<table border=\"1\" class=\"dataframe\">\n",
       "  <thead>\n",
       "    <tr style=\"text-align: right;\">\n",
       "      <th></th>\n",
       "      <th>role_name</th>\n",
       "      <th>meeting_no</th>\n",
       "      <th>speaker_over_time</th>\n",
       "      <th>total_actual_speaker_minutes</th>\n",
       "    </tr>\n",
       "  </thead>\n",
       "  <tbody>\n",
       "    <tr>\n",
       "      <th>0</th>\n",
       "      <td>Ah Counter Report</td>\n",
       "      <td>5</td>\n",
       "      <td>0</td>\n",
       "      <td>0.840000</td>\n",
       "    </tr>\n",
       "    <tr>\n",
       "      <th>1</th>\n",
       "      <td>General Evaluator Report</td>\n",
       "      <td>5</td>\n",
       "      <td>0</td>\n",
       "      <td>3.446667</td>\n",
       "    </tr>\n",
       "    <tr>\n",
       "      <th>2</th>\n",
       "      <td>Grammarian Report</td>\n",
       "      <td>5</td>\n",
       "      <td>0</td>\n",
       "      <td>2.156667</td>\n",
       "    </tr>\n",
       "    <tr>\n",
       "      <th>3</th>\n",
       "      <td>Speech Evaluator</td>\n",
       "      <td>15</td>\n",
       "      <td>11</td>\n",
       "      <td>3.341111</td>\n",
       "    </tr>\n",
       "  </tbody>\n",
       "</table>\n",
       "</div>"
      ],
      "text/plain": [
       "                  role_name  meeting_no  speaker_over_time  \\\n",
       "0         Ah Counter Report           5                  0   \n",
       "1  General Evaluator Report           5                  0   \n",
       "2         Grammarian Report           5                  0   \n",
       "3          Speech Evaluator          15                 11   \n",
       "\n",
       "   total_actual_speaker_minutes  \n",
       "0                      0.840000  \n",
       "1                      3.446667  \n",
       "2                      2.156667  \n",
       "3                      3.341111  "
      ]
     },
     "execution_count": 37,
     "metadata": {},
     "output_type": "execute_result"
    }
   ],
   "source": [
    "speaker_data_v3[(speaker_data_v3['meeting_chunk']=='5. Evaluation')].groupby('role_name').agg({'total_actual_speaker_minutes':'mean', 'speaker_over_time':'sum','meeting_no':'count'}).reset_index()"
   ]
  },
  {
   "cell_type": "markdown",
   "metadata": {},
   "source": [
    "#### General Evaluator"
   ]
  },
  {
   "cell_type": "code",
   "execution_count": 37,
   "metadata": {},
   "outputs": [
    {
     "data": {
      "text/plain": [
       "<matplotlib.axes._subplots.AxesSubplot at 0x7fa42d6739d0>"
      ]
     },
     "execution_count": 37,
     "metadata": {},
     "output_type": "execute_result"
    },
    {
     "data": {
      "image/png": "[encoded data removed]",
      "text/plain": [
       "<Figure size 432x288 with 1 Axes>"
      ]
     },
     "metadata": {
      "needs_background": "light"
     },
     "output_type": "display_data"
    }
   ],
   "source": [
    "speaker_data_v3[(speaker_data_v3['meeting_chunk']=='5. Evaluation') & \n",
    "                (speaker_data_v3['role_name']=='General Evaluator Report')]['total_actual_speaker_minutes'].hist()"
   ]
  },
  {
   "cell_type": "markdown",
   "metadata": {},
   "source": [
    "#### Speech Evaluators"
   ]
  },
  {
   "cell_type": "code",
   "execution_count": 38,
   "metadata": {},
   "outputs": [],
   "source": [
    "speech_evaluator_data = speaker_data_v3[(speaker_data_v3['meeting_chunk']=='5. Evaluation') & \n",
    "                (speaker_data_v3['role_name']=='Speech Evaluator')]"
   ]
  },
  {
   "cell_type": "code",
   "execution_count": 41,
   "metadata": {},
   "outputs": [
    {
     "name": "stdout",
     "output_type": "stream",
     "text": [
      "11\n",
      "0.7333333333333333\n",
      "This is the number and percent of speech evaluators over time\n"
     ]
    }
   ],
   "source": [
    "print(speech_evaluator_data.speaker_over_time.sum())\n",
    "print((speech_evaluator_data.speaker_over_time.sum())/(speech_evaluator_data.shape[0]*1.0))\n",
    "print(\"This is the number and percent of speech evaluators over time\")"
   ]
  },
  {
   "cell_type": "code",
   "execution_count": 42,
   "metadata": {},
   "outputs": [
    {
     "name": "stdout",
     "output_type": "stream",
     "text": [
      "6\n",
      "0.4\n",
      "This is the number and percent of speech evaluators over 3 minutes and 30 seconds\n"
     ]
    }
   ],
   "source": [
    "print(speech_evaluator_data.speaker_30_over_time.sum())\n",
    "print((speech_evaluator_data.speaker_30_over_time.sum())/(speech_evaluator_data.shape[0]*1.0))\n",
    "print(\"This is the number and percent of speech evaluators over 3 minutes and 30 seconds\")"
   ]
  },
  {
   "cell_type": "markdown",
   "metadata": {},
   "source": [
    "### 1. Introduce Guest and Theme\n",
    "- only 5 minutes are allotted to this whole section. Generally it should be 5 minutes to introduce the theme and some time to introduce the guest"
   ]
  },
  {
   "cell_type": "code",
   "execution_count": 43,
   "metadata": {},
   "outputs": [
    {
     "data": {
      "text/html": [
       "<div>\n",
       "<style scoped>\n",
       "    .dataframe tbody tr th:only-of-type {\n",
       "        vertical-align: middle;\n",
       "    }\n",
       "\n",
       "    .dataframe tbody tr th {\n",
       "        vertical-align: top;\n",
       "    }\n",
       "\n",
       "    .dataframe thead tr th {\n",
       "        text-align: left;\n",
       "    }\n",
       "</style>\n",
       "<table border=\"1\" class=\"dataframe\">\n",
       "  <thead>\n",
       "    <tr>\n",
       "      <th></th>\n",
       "      <th>meeting_chunk</th>\n",
       "      <th>role_name</th>\n",
       "      <th colspan=\"2\" halign=\"left\">total_actual_speaker_minutes</th>\n",
       "    </tr>\n",
       "    <tr>\n",
       "      <th></th>\n",
       "      <th></th>\n",
       "      <th></th>\n",
       "      <th>mean</th>\n",
       "      <th>median</th>\n",
       "    </tr>\n",
       "  </thead>\n",
       "  <tbody>\n",
       "    <tr>\n",
       "      <th>0</th>\n",
       "      <td>1. Introduce Guest and Theme</td>\n",
       "      <td>Guest Introductions</td>\n",
       "      <td>2.493333</td>\n",
       "      <td>2.0</td>\n",
       "    </tr>\n",
       "    <tr>\n",
       "      <th>1</th>\n",
       "      <td>1. Introduce Guest and Theme</td>\n",
       "      <td>TME Theme Introduction</td>\n",
       "      <td>3.980000</td>\n",
       "      <td>3.8</td>\n",
       "    </tr>\n",
       "  </tbody>\n",
       "</table>\n",
       "</div>"
      ],
      "text/plain": [
       "                  meeting_chunk               role_name  \\\n",
       "                                                          \n",
       "0  1. Introduce Guest and Theme     Guest Introductions   \n",
       "1  1. Introduce Guest and Theme  TME Theme Introduction   \n",
       "\n",
       "  total_actual_speaker_minutes         \n",
       "                          mean median  \n",
       "0                     2.493333    2.0  \n",
       "1                     3.980000    3.8  "
      ]
     },
     "execution_count": 43,
     "metadata": {},
     "output_type": "execute_result"
    }
   ],
   "source": [
    "(speaker_data_v3[(speaker_data_v3['meeting_chunk']=='1. Introduce Guest and Theme')]\n",
    "     .groupby(['meeting_chunk', 'role_name'])\n",
    "     .agg({'total_actual_speaker_minutes':['mean', 'median']}).reset_index())"
   ]
  },
  {
   "cell_type": "code",
   "execution_count": 44,
   "metadata": {},
   "outputs": [
    {
     "data": {
      "text/plain": [
       "<matplotlib.axes._subplots.AxesSubplot at 0x7fa42d5ad850>"
      ]
     },
     "execution_count": 44,
     "metadata": {},
     "output_type": "execute_result"
    },
    {
     "data": {
      "image/png": "[encoded data removed]",
      "text/plain": [
       "<Figure size 432x288 with 1 Axes>"
      ]
     },
     "metadata": {
      "needs_background": "light"
     },
     "output_type": "display_data"
    }
   ],
   "source": [
    "speaker_data_v3[(speaker_data_v3['meeting_chunk']=='1. Introduce Guest and Theme')]['total_actual_speaker_minutes'].hist()"
   ]
  },
  {
   "cell_type": "markdown",
   "metadata": {},
   "source": [
    "### 2. Evaluation Introduction\t"
   ]
  },
  {
   "cell_type": "markdown",
   "metadata": {},
   "source": [
    "- Grammarian has more to introduce than the ah counter\n",
    "    - Description of their role\n",
    "    - WOD with examples\n",
    "    - Knock on table when you hear the WOD"
   ]
  },
  {
   "cell_type": "code",
   "execution_count": 40,
   "metadata": {
    "scrolled": true
   },
   "outputs": [
    {
     "data": {
      "text/html": [
       "<div>\n",
       "<style scoped>\n",
       "    .dataframe tbody tr th:only-of-type {\n",
       "        vertical-align: middle;\n",
       "    }\n",
       "\n",
       "    .dataframe tbody tr th {\n",
       "        vertical-align: top;\n",
       "    }\n",
       "\n",
       "    .dataframe thead th {\n",
       "        text-align: right;\n",
       "    }\n",
       "</style>\n",
       "<table border=\"1\" class=\"dataframe\">\n",
       "  <thead>\n",
       "    <tr style=\"text-align: right;\">\n",
       "      <th></th>\n",
       "      <th>meeting_chunk</th>\n",
       "      <th>role_name</th>\n",
       "      <th>total_actual_speaker_minutes</th>\n",
       "    </tr>\n",
       "  </thead>\n",
       "  <tbody>\n",
       "    <tr>\n",
       "      <th>0</th>\n",
       "      <td>2. Evaluation Introduction</td>\n",
       "      <td>Ah Counter Role</td>\n",
       "      <td>0.82</td>\n",
       "    </tr>\n",
       "    <tr>\n",
       "      <th>1</th>\n",
       "      <td>2. Evaluation Introduction</td>\n",
       "      <td>Grammarian Role</td>\n",
       "      <td>2.09</td>\n",
       "    </tr>\n",
       "  </tbody>\n",
       "</table>\n",
       "</div>"
      ],
      "text/plain": [
       "                meeting_chunk        role_name  total_actual_speaker_minutes\n",
       "0  2. Evaluation Introduction  Ah Counter Role                          0.82\n",
       "1  2. Evaluation Introduction  Grammarian Role                          2.09"
      ]
     },
     "execution_count": 40,
     "metadata": {},
     "output_type": "execute_result"
    }
   ],
   "source": [
    "(speaker_data_v3[(speaker_data_v3['meeting_chunk']=='2. Evaluation Introduction')]\n",
    "     .groupby(['meeting_chunk', 'role_name'])\n",
    "     .agg({'total_actual_speaker_minutes':'mean'}).reset_index())"
   ]
  },
  {
   "cell_type": "markdown",
   "metadata": {},
   "source": [
    "### 3. Speech Program\n",
    "- There is a decent amount of leaway time here"
   ]
  },
  {
   "cell_type": "code",
   "execution_count": 47,
   "metadata": {},
   "outputs": [
    {
     "data": {
      "text/html": [
       "<div>\n",
       "<style scoped>\n",
       "    .dataframe tbody tr th:only-of-type {\n",
       "        vertical-align: middle;\n",
       "    }\n",
       "\n",
       "    .dataframe tbody tr th {\n",
       "        vertical-align: top;\n",
       "    }\n",
       "\n",
       "    .dataframe thead tr th {\n",
       "        text-align: left;\n",
       "    }\n",
       "</style>\n",
       "<table border=\"1\" class=\"dataframe\">\n",
       "  <thead>\n",
       "    <tr>\n",
       "      <th></th>\n",
       "      <th>meeting_chunk</th>\n",
       "      <th>role_name</th>\n",
       "      <th colspan=\"2\" halign=\"left\">total_actual_speaker_minutes</th>\n",
       "    </tr>\n",
       "    <tr>\n",
       "      <th></th>\n",
       "      <th></th>\n",
       "      <th></th>\n",
       "      <th>mean</th>\n",
       "      <th>median</th>\n",
       "    </tr>\n",
       "  </thead>\n",
       "  <tbody>\n",
       "    <tr>\n",
       "      <th>0</th>\n",
       "      <td>3. Speech Program</td>\n",
       "      <td>Speaker</td>\n",
       "      <td>7.108889</td>\n",
       "      <td>7.333333</td>\n",
       "    </tr>\n",
       "  </tbody>\n",
       "</table>\n",
       "</div>"
      ],
      "text/plain": [
       "       meeting_chunk role_name total_actual_speaker_minutes          \n",
       "                                                       mean    median\n",
       "0  3. Speech Program   Speaker                     7.108889  7.333333"
      ]
     },
     "execution_count": 47,
     "metadata": {},
     "output_type": "execute_result"
    }
   ],
   "source": [
    "(speaker_data_v3[(speaker_data_v3['meeting_chunk']=='3. Speech Program')]\n",
    "     .groupby(['meeting_chunk', 'role_name'])\n",
    "     .agg({'total_actual_speaker_minutes':['mean', 'median']}).reset_index())"
   ]
  },
  {
   "cell_type": "code",
   "execution_count": 48,
   "metadata": {},
   "outputs": [
    {
     "data": {
      "text/plain": [
       "(15, 23)"
      ]
     },
     "execution_count": 48,
     "metadata": {},
     "output_type": "execute_result"
    }
   ],
   "source": [
    "main_speeches = speaker_data_v3[(speaker_data_v3['meeting_chunk']=='3. Speech Program')]\n",
    "main_speeches.shape"
   ]
  },
  {
   "cell_type": "code",
   "execution_count": 60,
   "metadata": {},
   "outputs": [
    {
     "data": {
      "text/html": [
       "<div>\n",
       "<style scoped>\n",
       "    .dataframe tbody tr th:only-of-type {\n",
       "        vertical-align: middle;\n",
       "    }\n",
       "\n",
       "    .dataframe tbody tr th {\n",
       "        vertical-align: top;\n",
       "    }\n",
       "\n",
       "    .dataframe thead th {\n",
       "        text-align: right;\n",
       "    }\n",
       "</style>\n",
       "<table border=\"1\" class=\"dataframe\">\n",
       "  <thead>\n",
       "    <tr style=\"text-align: right;\">\n",
       "      <th></th>\n",
       "      <th>meeting_no</th>\n",
       "      <th>meeting_date</th>\n",
       "      <th>start_time</th>\n",
       "      <th>end_time</th>\n",
       "      <th>meeting_chunk</th>\n",
       "      <th>role_name</th>\n",
       "      <th>allotted_hour</th>\n",
       "      <th>allotted_minute</th>\n",
       "      <th>alloted_seconds</th>\n",
       "      <th>alloted_time</th>\n",
       "      <th>...</th>\n",
       "      <th>actual_time</th>\n",
       "      <th>no_guests</th>\n",
       "      <th>total_actual_speaker_minutes</th>\n",
       "      <th>allotted_speaker_minutes</th>\n",
       "      <th>comments</th>\n",
       "      <th>actual_chunk_minutes</th>\n",
       "      <th>chunk_minutes</th>\n",
       "      <th>meeting_duration</th>\n",
       "      <th>speaker_over_time</th>\n",
       "      <th>speaker_30_over_time</th>\n",
       "    </tr>\n",
       "  </thead>\n",
       "  <tbody>\n",
       "    <tr>\n",
       "      <th>4</th>\n",
       "      <td>575</td>\n",
       "      <td>11/6/2019</td>\n",
       "      <td>2020-01-02 18:08:00</td>\n",
       "      <td>2020-01-02 19:52:00</td>\n",
       "      <td>3. Speech Program</td>\n",
       "      <td>Speaker</td>\n",
       "      <td>0</td>\n",
       "      <td>4</td>\n",
       "      <td>0</td>\n",
       "      <td>0:04:00</td>\n",
       "      <td>...</td>\n",
       "      <td>0:03:23</td>\n",
       "      <td>NaN</td>\n",
       "      <td>3.383333</td>\n",
       "      <td>4.0</td>\n",
       "      <td>NaN</td>\n",
       "      <td>28.45</td>\n",
       "      <td>30.0</td>\n",
       "      <td>01:44:00</td>\n",
       "      <td>0</td>\n",
       "      <td>0</td>\n",
       "    </tr>\n",
       "  </tbody>\n",
       "</table>\n",
       "<p>1 rows × 23 columns</p>\n",
       "</div>"
      ],
      "text/plain": [
       "   meeting_no meeting_date          start_time            end_time  \\\n",
       "4         575    11/6/2019 2020-01-02 18:08:00 2020-01-02 19:52:00   \n",
       "\n",
       "       meeting_chunk role_name  allotted_hour  allotted_minute  \\\n",
       "4  3. Speech Program   Speaker              0                4   \n",
       "\n",
       "   alloted_seconds alloted_time          ...           actual_time  no_guests  \\\n",
       "4                0      0:04:00          ...               0:03:23        NaN   \n",
       "\n",
       "   total_actual_speaker_minutes allotted_speaker_minutes  comments  \\\n",
       "4                      3.383333                      4.0       NaN   \n",
       "\n",
       "   actual_chunk_minutes  chunk_minutes meeting_duration  speaker_over_time  \\\n",
       "4                 28.45           30.0         01:44:00                  0   \n",
       "\n",
       "   speaker_30_over_time  \n",
       "4                     0  \n",
       "\n",
       "[1 rows x 23 columns]"
      ]
     },
     "execution_count": 60,
     "metadata": {},
     "output_type": "execute_result"
    }
   ],
   "source": [
    "main_speeches.head(1)"
   ]
  },
  {
   "cell_type": "code",
   "execution_count": 81,
   "metadata": {},
   "outputs": [
    {
     "data": {
      "text/html": [
       "<div>\n",
       "<style scoped>\n",
       "    .dataframe tbody tr th:only-of-type {\n",
       "        vertical-align: middle;\n",
       "    }\n",
       "\n",
       "    .dataframe tbody tr th {\n",
       "        vertical-align: top;\n",
       "    }\n",
       "\n",
       "    .dataframe thead th {\n",
       "        text-align: right;\n",
       "    }\n",
       "</style>\n",
       "<table border=\"1\" class=\"dataframe\">\n",
       "  <thead>\n",
       "    <tr style=\"text-align: right;\">\n",
       "      <th></th>\n",
       "      <th>role_name_</th>\n",
       "      <th>allotted_speaker_minutes_</th>\n",
       "      <th>speaker_30_over_time_sum</th>\n",
       "      <th>speaker_over_time_sum</th>\n",
       "      <th>count_speeches_count</th>\n",
       "      <th>total_actual_speaker_minutes_mean</th>\n",
       "      <th>total_actual_speaker_minutes_min</th>\n",
       "      <th>total_actual_speaker_minutes_max</th>\n",
       "    </tr>\n",
       "  </thead>\n",
       "  <tbody>\n",
       "    <tr>\n",
       "      <th>0</th>\n",
       "      <td>Speaker</td>\n",
       "      <td>4.0</td>\n",
       "      <td>0</td>\n",
       "      <td>0</td>\n",
       "      <td>1</td>\n",
       "      <td>3.383333</td>\n",
       "      <td>3.383333</td>\n",
       "      <td>3.383333</td>\n",
       "    </tr>\n",
       "    <tr>\n",
       "      <th>1</th>\n",
       "      <td>Speaker</td>\n",
       "      <td>6.0</td>\n",
       "      <td>2</td>\n",
       "      <td>3</td>\n",
       "      <td>4</td>\n",
       "      <td>6.145833</td>\n",
       "      <td>4.000000</td>\n",
       "      <td>7.333333</td>\n",
       "    </tr>\n",
       "    <tr>\n",
       "      <th>2</th>\n",
       "      <td>Speaker</td>\n",
       "      <td>7.0</td>\n",
       "      <td>6</td>\n",
       "      <td>6</td>\n",
       "      <td>9</td>\n",
       "      <td>7.648148</td>\n",
       "      <td>5.916667</td>\n",
       "      <td>9.333333</td>\n",
       "    </tr>\n",
       "    <tr>\n",
       "      <th>3</th>\n",
       "      <td>Speaker</td>\n",
       "      <td>8.0</td>\n",
       "      <td>1</td>\n",
       "      <td>1</td>\n",
       "      <td>1</td>\n",
       "      <td>9.833333</td>\n",
       "      <td>9.833333</td>\n",
       "      <td>9.833333</td>\n",
       "    </tr>\n",
       "  </tbody>\n",
       "</table>\n",
       "</div>"
      ],
      "text/plain": [
       "  role_name_  allotted_speaker_minutes_  speaker_30_over_time_sum  \\\n",
       "0    Speaker                        4.0                         0   \n",
       "1    Speaker                        6.0                         2   \n",
       "2    Speaker                        7.0                         6   \n",
       "3    Speaker                        8.0                         1   \n",
       "\n",
       "   speaker_over_time_sum  count_speeches_count  \\\n",
       "0                      0                     1   \n",
       "1                      3                     4   \n",
       "2                      6                     9   \n",
       "3                      1                     1   \n",
       "\n",
       "   total_actual_speaker_minutes_mean  total_actual_speaker_minutes_min  \\\n",
       "0                           3.383333                          3.383333   \n",
       "1                           6.145833                          4.000000   \n",
       "2                           7.648148                          5.916667   \n",
       "3                           9.833333                          9.833333   \n",
       "\n",
       "   total_actual_speaker_minutes_max  \n",
       "0                          3.383333  \n",
       "1                          7.333333  \n",
       "2                          9.333333  \n",
       "3                          9.833333  "
      ]
     },
     "execution_count": 81,
     "metadata": {},
     "output_type": "execute_result"
    }
   ],
   "source": [
    "main_speeches_groupby = (main_speeches\n",
    "                             .groupby(['role_name', 'allotted_speaker_minutes'])\n",
    "                             .agg({'actual_chunk_minutes': 'count', \n",
    "                                   'total_actual_speaker_minutes':['mean', 'min', 'max'], \n",
    "                                   'speaker_over_time': 'sum', \n",
    "                                   'speaker_30_over_time': 'sum'})\n",
    "                             .reset_index()\n",
    "                             .rename(columns={'actual_chunk_minutes': 'count_speeches'})\n",
    "                        )\n",
    "\n",
    "main_speeches_groupby.columns = ['_'.join(x) for x in main_speeches_groupby.columns]\n",
    "\n",
    "main_speeches_groupby"
   ]
  },
  {
   "cell_type": "code",
   "execution_count": 82,
   "metadata": {},
   "outputs": [
    {
     "name": "stdout",
     "output_type": "stream",
     "text": [
      "10\n",
      "0.6666666666666666\n",
      "This is the number and percent of speakers over time\n"
     ]
    }
   ],
   "source": [
    "print(main_speeches.speaker_over_time.sum())\n",
    "print((main_speeches.speaker_over_time.sum())/(main_speeches.shape[0]*1.0))\n",
    "print(\"This is the number and percent of speakers over time\")"
   ]
  },
  {
   "cell_type": "code",
   "execution_count": 83,
   "metadata": {},
   "outputs": [
    {
     "name": "stdout",
     "output_type": "stream",
     "text": [
      "9\n",
      "0.6\n",
      "This is the number and percent of speakers over time past 30 seconds\n"
     ]
    }
   ],
   "source": [
    "print(main_speeches.speaker_30_over_time.sum())\n",
    "print((main_speeches.speaker_30_over_time.sum())/(main_speeches.shape[0]*1.0))\n",
    "print(\"This is the number and percent of speakers over time past 30 seconds\")"
   ]
  },
  {
   "cell_type": "code",
   "execution_count": 135,
   "metadata": {},
   "outputs": [
    {
     "name": "stdout",
     "output_type": "stream",
     "text": [
      "role_name\n",
      "Speaker    7.648148\n",
      "Name: total_actual_speaker_minutes, dtype: float64\n",
      "role_name\n",
      "Speaker    3.383333\n",
      "Name: total_actual_speaker_minutes, dtype: float64\n"
     ]
    }
   ],
   "source": [
    "print(main_speeches[main_speeches['allotted_speaker_minutes']==7].groupby('role_name').total_actual_speaker_minutes.mean())\n",
    "\n",
    "print(main_speeches[main_speeches['allotted_speaker_minutes']==4].groupby('role_name').total_actual_speaker_minutes.mean())"
   ]
  },
  {
   "cell_type": "markdown",
   "metadata": {},
   "source": [
    "Table topics may not be going over time however, I have noticed that the break started later than usual due to timer saying one more when there is 1-2 mins on the clock. This results in the rest of the meeting being delay as the TTM has to annouce to vote and recap the names. So if there is 2 mins left, then maybe wrap up table topics"
   ]
  }
 ],
 "metadata": {
  "kernelspec": {
   "display_name": "Python 2",
   "language": "python",
   "name": "python2"
  },
  "language_info": {
   "codemirror_mode": {
    "name": "ipython",
    "version": 2
   },
   "file_extension": ".py",
   "mimetype": "text/x-python",
   "name": "python",
   "nbconvert_exporter": "python",
   "pygments_lexer": "ipython2",
   "version": "2.7.13"
  }
 },
 "nbformat": 4,
 "nbformat_minor": 2
}
